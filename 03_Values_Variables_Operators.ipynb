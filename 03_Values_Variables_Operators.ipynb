{
  "nbformat": 4,
  "nbformat_minor": 0,
  "metadata": {
    "@webio": {
      "lastCommId": null,
      "lastKernelId": null
    },
    "colab": {
      "name": "Tutorial_Values_Variables_Operators.ipynb",
      "provenance": [],
      "collapsed_sections": []
    },
    "kernelspec": {
      "display_name": "Python 3",
      "language": "python",
      "name": "python3"
    },
    "language_info": {
      "codemirror_mode": {
        "name": "ipython",
        "version": 3
      },
      "file_extension": ".py",
      "mimetype": "text/x-python",
      "name": "python",
      "nbconvert_exporter": "python",
      "pygments_lexer": "ipython3",
      "version": "3.8.5"
    }
  },
  "cells": [
    {
      "cell_type": "markdown",
      "metadata": {
        "id": "YnvoFFwb5vq3"
      },
      "source": [
        "# **Table of Contents**\n",
        "1. [Introduction](#introduction)\n",
        "2. [Variables](#variables)\n",
        "3. [Values](#values)\n",
        "4. [Operators](#operators)\n",
        "\n"
      ]
    },
    {
      "cell_type": "markdown",
      "metadata": {
        "id": "YvFeSDtfR5JW"
      },
      "source": [
        "# **Introduction** <a name=\"introduction\"></a>\n",
        "\n",
        "This tutorial introduces **variables**, **values** and **operators**. It is addressed to beginners in Python and goes through the very basics of each topic. While this document does not cover more advanced concepts, links will be provided throughout the tutorial to dive deeper into the technicalities of each topic.\n",
        "\n",
        "Firsty, **variables** are a key component of any program, they allocate space in memory to store any kind of value. The latter can be updated throughout a program and allow code to be run several times without rewritting it for different values.\n",
        "\n",
        "Secondly, **values** are data that can be assigned to a variable. Those can take different forms (types): string, integer, float, boolean…\n",
        "\n",
        "Thirdly, **operators** are covered. From basic arithmetic to more advanced identity or bitwise operators, those special symbols allow the creation of more complex algorithms by performing operations on operands (i.e., values and variables)."
      ]
    },
    {
      "cell_type": "markdown",
      "metadata": {
        "id": "Wsqw1F1ZKOo2"
      },
      "source": [
        "# **Variables** <a name=\"variables\"></a>\n",
        "\n",
        "(Note: This chapter contains verbatim quotes from: https://www.tutorialspoint.com/python/python_variable_types.htm, https://www.pluralsight.com/guides/python-basics-variables-assignment, https://www.w3schools.com/python/python_variables.asp, https://www.programiz.com/python-programming/global-local-nonlocal-variables and https://www.guru99.com/variables-in-python.html)\n",
        "\n",
        "A variable can be thought of as a bucket which stores information  by reserving some memory space for a specific value. Either integers, decimals or characters can be assigned to a variable and can then be called by referring to the variable name."
      ]
    },
    {
      "cell_type": "markdown",
      "metadata": {
        "id": "RlObv9U1ygis"
      },
      "source": [
        "## **Assignment of values to variables**\n",
        "\n",
        "When assigning a value to a variable, the equal operator `=` is used. While the variable name is indicated on the left of the equal sign, the value stored in the variable is written to its right. \n",
        "\n",
        "Unlike other programming languages, in Python, there is no advance variable declaration required. "
      ]
    },
    {
      "cell_type": "markdown",
      "metadata": {
        "id": "dcb75SQUyoJD"
      },
      "source": [
        "## **Call a variable**\n",
        "\n",
        "In order to print the value that was assigned to a variable, the function print followed by the variable name is used."
      ]
    },
    {
      "cell_type": "code",
      "metadata": {
        "id": "xsFhTp7ZMF0f"
      },
      "source": [
        "# Assign value to a variable\n",
        "\n",
        "a = 2021\n",
        "b = 3.14\n",
        "c = \"Hello World\"\n",
        "\n",
        "# Print the values associated with the variables\n",
        "\n",
        "print(a)\n",
        "print(b)\n",
        "print(c)"
      ],
      "execution_count": null,
      "outputs": []
    },
    {
      "cell_type": "markdown",
      "metadata": {
        "id": "YfqPcCwrMpRd"
      },
      "source": [
        "## **Assignment of multiple variables**\n",
        "\n",
        "It is possible to assign one object or even several objects to multiple variables, at the same time. If an object is assigned to multiple variables, this means that it is stored in different memory locations, simultaneously, and can be called by referring to any of the assigned variable names. \n",
        "\n",
        "\n",
        "\n"
      ]
    },
    {
      "cell_type": "code",
      "metadata": {
        "id": "diiJCAxpM1vz"
      },
      "source": [
        "# Assign a single value to several variables\n",
        "d = 5\n",
        "e = 5\n",
        "\n",
        "# Print them \n",
        "print(d)\n",
        "print(e)\n",
        "print(d+e)\n",
        "\n",
        "# Assign multiple values to multiple variables\n",
        "e = f = \"Hello\", 2021, 7.5\n",
        "\n",
        "# Print them\n",
        "print(e)\n",
        "print(f)\n",
        "print(e+f)"
      ],
      "execution_count": null,
      "outputs": []
    },
    {
      "cell_type": "markdown",
      "metadata": {
        "id": "iueKaL9wOY-j"
      },
      "source": [
        "## **Re-assignment of Variables**\n",
        "\n",
        "After having assigned a certain value to a variable, the variable can easily be redefined. "
      ]
    },
    {
      "cell_type": "code",
      "metadata": {
        "id": "y7KORL0DOe-L"
      },
      "source": [
        "# Assign a value to a variabla\n",
        "House_number = 221\n",
        "print(House_number)\n",
        "\n",
        "#Re-assign different value to the variable\n",
        "House_number = \"Unknown\"\n",
        "print(House_number)"
      ],
      "execution_count": null,
      "outputs": []
    },
    {
      "cell_type": "markdown",
      "metadata": {
        "id": "PwlTns2iPKt1"
      },
      "source": [
        "## **Guidelines for naming variables**\n",
        "\n",
        "\n",
        "\n",
        "*   A variable name must start with a letter\n",
        "*   Avoid non-letter characters\n",
        "*   Certain keywords, such as `if`, `when`, `return` etc. cannot be used\n",
        "*   Digits cannot be used to start variable names\n",
        "*   Easily understable and explicit names are to be preferred\n",
        "*   Spaces cannot be used\n",
        "*   Variable names are case-specific\n",
        "\n",
        "\n",
        "\n",
        "\n",
        "\n",
        "\n",
        "\n",
        "Invalid variable names will return an error."
      ]
    },
    {
      "cell_type": "code",
      "metadata": {
        "id": "ikLHOGmpPV6n"
      },
      "source": [
        "# Variable names with underscore\n",
        "growth_rate = 0.34\n",
        "print(growth_rate)"
      ],
      "execution_count": null,
      "outputs": []
    },
    {
      "cell_type": "code",
      "metadata": {
        "id": "-3Wz7ajxdb_f"
      },
      "source": [
        "# Variable names cannot begin with a digit\n",
        "2012_growthrate = 5.1\n",
        "print(2012_growthrate)"
      ],
      "execution_count": null,
      "outputs": []
    },
    {
      "cell_type": "code",
      "metadata": {
        "id": "KYqmnZYMddp7"
      },
      "source": [
        "# Spaces cannot be used \n",
        "growth rate = 9.7\n",
        "print(growth rate)"
      ],
      "execution_count": null,
      "outputs": []
    },
    {
      "cell_type": "code",
      "metadata": {
        "id": "4TKwFXr8dfW_"
      },
      "source": [
        "# It matters whether upper or lower case letters are used\n",
        "name = \"Lisa\"\n",
        "Name = \"Sarah\"\n",
        "\n",
        "print(name)\n",
        "print(Name)"
      ],
      "execution_count": null,
      "outputs": []
    },
    {
      "cell_type": "markdown",
      "metadata": {
        "id": "KQpnCSQfQvRD"
      },
      "source": [
        "## **Concatenation**\n",
        "\n",
        "In Python, a value of the data type string and one of the type integer cannot be declared as the same variable. The integer needs to be converted to a string. "
      ]
    },
    {
      "cell_type": "code",
      "metadata": {
        "id": "PLKFPfNoRIJw"
      },
      "source": [
        "# Declare a string and a integer variable\n",
        "Name = \"John\"\n",
        "Age = 24\n",
        "\n",
        "# Printing them together does not work\n",
        "print(Name+Age)"
      ],
      "execution_count": null,
      "outputs": []
    },
    {
      "cell_type": "code",
      "metadata": {
        "id": "gkGtaaNNUNvq"
      },
      "source": [
        "# Age needs to be converted to a string\n",
        "Age = str(24)\n",
        "print(Name+Age)"
      ],
      "execution_count": null,
      "outputs": []
    },
    {
      "cell_type": "markdown",
      "metadata": {
        "id": "VSS5dFNaWNeV"
      },
      "source": [
        "## **Global and local variables**\n",
        "\n",
        "Variables which are declared outside a function are called global variables. \n",
        "Those declared within a function are referred to as local variables. Unlike local variables which can only accessed in the function in which they are defined, global ones can be accessed by any function. "
      ]
    },
    {
      "cell_type": "code",
      "metadata": {
        "id": "xDRb1M8WX4rq"
      },
      "source": [
        "# Create a global variable\n",
        "MyVar = \"global\"\n",
        "\n",
        "# Create a function\n",
        "def MyFunction():\n",
        "  print (\"This variable is\",MyVar)\n",
        "\n",
        "# Call the function\n",
        "MyFunction()\n",
        "\n",
        "# Call the variable outside the function\n",
        "print(\"This variable is\", MyVar)"
      ],
      "execution_count": null,
      "outputs": []
    },
    {
      "cell_type": "code",
      "metadata": {
        "id": "Bm9HGuHTZSe-"
      },
      "source": [
        "# Create a local variable within a function\n",
        "def MyFunction():\n",
        "  NewVar = \"local\"\n",
        "  print(NewVar)\n",
        "\n",
        "# Call the function\n",
        "MyFunction()\n",
        "\n",
        "# Printing the variable outside the funtion is not possible\n",
        "print(NewVar)"
      ],
      "execution_count": null,
      "outputs": []
    },
    {
      "cell_type": "markdown",
      "metadata": {
        "id": "ExH-0L15bcZW"
      },
      "source": [
        "A global variable can be modified within a function if it is declared as global."
      ]
    },
    {
      "cell_type": "code",
      "metadata": {
        "id": "Vwmtp-PqaaB3"
      },
      "source": [
        "\n",
        "MyVar = \"global\"\n",
        "# Using local and global variables in the same code\n",
        "def MyFunction():\n",
        "  global MyVar\n",
        "  NewVar = \"local\"\n",
        "  MyVar = MyVar * 2\n",
        "  print(MyVar)\n",
        "  print(NewVar)\n",
        "\n",
        "MyFunction()"
      ],
      "execution_count": null,
      "outputs": []
    },
    {
      "cell_type": "markdown",
      "metadata": {
        "id": "9-xY1ep3beRq"
      },
      "source": [
        "If a variable is defined in local and global scope, a different output is reached when calling the function and when printing the variable outside the function."
      ]
    },
    {
      "cell_type": "code",
      "metadata": {
        "id": "rkjqxS0fb7El"
      },
      "source": [
        "# Declare variable on a global scope \n",
        "Greeting = \"Hello!\"\n",
        "\n",
        "# Define function with variable on local scope\n",
        "def MyFunction():\n",
        "  Greeting = \"Good Morning!\"\n",
        "  print(Greeting)\n",
        "\n",
        "# Print the different outputs of the variable \n",
        "MyFunction()\n",
        "print(Greeting)"
      ],
      "execution_count": null,
      "outputs": []
    },
    {
      "cell_type": "markdown",
      "metadata": {
        "id": "bkmq1bLBSfpA"
      },
      "source": [
        "## **Delete variables**\n",
        "\n",
        "With the command del followed by a variable name, the variable can easily be deleted. \n",
        "It is also possible to delete multiple variables simultaneously."
      ]
    },
    {
      "cell_type": "code",
      "metadata": {
        "id": "kNZzOaYvQ1a4"
      },
      "source": [
        "# Declare a variable\n",
        "maths_grade = 6\n",
        "print(maths_grade)\n",
        "\n",
        "# Delete the variable \n",
        "del maths_grade\n",
        "print(maths_grade)"
      ],
      "execution_count": null,
      "outputs": []
    },
    {
      "cell_type": "code",
      "metadata": {
        "id": "JKhD4AdWT6Wb"
      },
      "source": [
        "# Declare several variables\n",
        "econ_grade = 5.5\n",
        "business_grade = 4.5\n",
        "print(econ_grade)\n",
        "print(business_grade)\n",
        "\n",
        "# Delete them\n",
        "del econ_grade, business_grade\n",
        "print(econ_grade)\n",
        "print(business_grade)"
      ],
      "execution_count": null,
      "outputs": []
    },
    {
      "cell_type": "markdown",
      "metadata": {
        "id": "Af4Ra0asOfNz"
      },
      "source": [
        "# **Values** <a name=\"values\"></a>\n",
        "\n",
        "(Note: This chapter contains verbatim quotes from: https://realpython.com/python-data-types/, https://developer.rhino3d.com/guides/rhinopython/python-datatypes/, http://dataanalyticsedge.com/2018/05/08/basics-of-python/, https://www.tutorialspoint.com/index.htm and https://www.w3schools.com/python/default.asp)\n",
        "\n",
        "Any programming language is based on data and in Python data is realised as objects. A data type denotes a set of \"similar\" values. Data types define the possible values of variables, attributes (and methods). Generally, the data stored can be of many types, however Python provides various standard data types. The data type is determined by assigning a value to a variable. Hence, a value can be defined as a piece of data or information. It is useful to use these built-in data types since it facilitates the programme-writing process. The main data types or types of values are the following: \n",
        "- Text Type:\t`str` (strings)\n",
        "- Numeric Types:\t`int` (integer numbers), `float` (floating point numbers), `complex` (complex numbers)\n",
        "- Sequence Types:\t`list` (lists), `tuple` (tuples)\n",
        "- Mapping Type:\t`dict` (dictionaries)\n",
        "- Boolean Type:\t`bool` (booleans)\n",
        "\n",
        "When operating with these data types, a particular Python language syntax is used to create an object. In this sense, it is important to mention that the operations performed on the value are bound by the type. Hence, when using strings, one can only use string operators or when operating with a list, list operations should be used. Python can detect the type of value, which is especially useful if the value of a variable is changed. In this case Python automatically adapts the new variable type."
      ]
    },
    {
      "cell_type": "code",
      "metadata": {
        "id": "Q0uW-_yASv82"
      },
      "source": [
        "var = 123  # number integer assignment\n",
        "var = 'Apple'  # the `var` variable is now a string type."
      ],
      "execution_count": null,
      "outputs": []
    },
    {
      "cell_type": "markdown",
      "metadata": {
        "id": "_mE-ImEYThCK"
      },
      "source": [
        "Even tough Python detects the data type when assigning a value to a variable, this can also be specified specifically.\n",
        "\n",
        "|                                          |         |   |   |   |\n",
        "|------------------------------------------|---------|---|---|---|\n",
        "| x = str(\"Hello World\")                   | str     |   |   |   |\n",
        "| x = int(20)                              | int     |   |   |   |\n",
        "| x = float(20.5)                          | float   |   |   |   |\n",
        "| x = complex(1j)                          | complex |   |   |   |\n",
        "| x = list((\"apple\", \"banana\", \"cherry\"))  | list    |   |   |   |\n",
        "| x = tuple((\"apple\", \"banana\", \"cherry\")) | tuple   |   |   |   |\n",
        "| x = dict(name=\"John\", age=36)            | dict    |   |   |   |\n",
        "\n",
        "---\n",
        "\n"
      ]
    },
    {
      "cell_type": "markdown",
      "metadata": {
        "id": "_WSuHeMTT_Ex"
      },
      "source": [
        "## **Numbers**\n",
        "\n",
        "In Python 3, one can distinguish between four different numerical types:\n",
        "1. Integers\n",
        "2. Long\n",
        "3. Float\n",
        "4. Complex\n",
        "\n",
        "In order to produce a number of a type, the constructors `int()`, `float()`, `complex()` can be used. Furthermore, with the built-in function `type()`, an object's type can be accessed. Types are written like this: `<class 'int'>`."
      ]
    },
    {
      "cell_type": "code",
      "metadata": {
        "id": "c4_04lOHSv-p"
      },
      "source": [
        "message = \"I am Swiss\"\n",
        "num = 345\n",
        "pi = 3.14159\n",
        "print(type(message))  # Returns a string\n",
        "print(type(num))  # Returns an integer\n",
        "print(type(pi))  # Returns a float"
      ],
      "execution_count": null,
      "outputs": []
    },
    {
      "cell_type": "markdown",
      "metadata": {
        "id": "8TQQac-AT3kL"
      },
      "source": [
        "### **Integers** \n",
        "\n",
        "Integers are whole numbers, positive or negative and do not have a fractional part."
      ]
    },
    {
      "cell_type": "code",
      "metadata": {
        "id": "i1RQ8N1GSwBk"
      },
      "source": [
        "x = 2\n",
        "y = 4583938204740\n",
        "z = -108503739659\n",
        "\n",
        "print(type(x))\n",
        "print(type(y))\n",
        "print(type(z))"
      ],
      "execution_count": null,
      "outputs": []
    },
    {
      "cell_type": "markdown",
      "metadata": {
        "id": "Z1KRGacfUIqu"
      },
      "source": [
        "### **Long** \n",
        "\n",
        "Longs are just long integers, hence they are of unlimited size. The essential difference between longs and integers is that longs are denoted with an uppercase `L`."
      ]
    },
    {
      "cell_type": "markdown",
      "metadata": {
        "id": "ECGJT5Jyy-PY"
      },
      "source": [
        "### **Float**\n",
        "\n",
        "Floating point numbers are positive or negative values containing a decimal point. In scientific writing, the character `e` or `E` is often also used to describe either very big or very small numbers, using the power of 10."
      ]
    },
    {
      "cell_type": "code",
      "metadata": {
        "id": "h6WfRwxRSwEa"
      },
      "source": [
        "x = 5.50\n",
        "y = 3.0\n",
        "z = -196.96\n",
        "a = .6e3\n",
        "\n",
        "print(type(x))\n",
        "print(type(y))\n",
        "print(type(z))\n",
        "print(type(a))"
      ],
      "execution_count": null,
      "outputs": []
    },
    {
      "cell_type": "markdown",
      "metadata": {
        "id": "-t6YJ3WmUN3t"
      },
      "source": [
        "### **Complex**\n",
        "\n",
        "A complex number consists of an ordered pair of real floating-point numbers denoted by `<real part>+<imaginary part>j`. This can be displayed as `x + yj`, where `x` and `y` are the real numbers and `j` is the imaginary unit. Examples: `2+45j`, `9.322e-36j`\n",
        "\n"
      ]
    },
    {
      "cell_type": "markdown",
      "metadata": {
        "id": "sAbEdvj2zF8q"
      },
      "source": [
        "### **Number conversion**\n",
        "\n",
        "Normally, Python will convert a number automatically from one type to another if needed and this is fine most of the time. But under certain circumstances if a specific numeric type is needed, the format can be forced by using additional syntax from the table below:\n",
        "\n",
        "| Type      | Format    | Descrption                     |\n",
        "|-----------|-----------|--------------------------------|\n",
        "| int()     | a = 70    | Integer                        |\n",
        "| float()   | a = 33.45 | (.) Floating point real values |\n",
        "| complex() | a = 4-3j  | (j) Complex (imaginary) number |"
      ]
    },
    {
      "cell_type": "code",
      "metadata": {
        "id": "ELSfsnisSidb"
      },
      "source": [
        "x = 70   # int\n",
        "y = 33.45 # float\n",
        "z = 4-3j   # complex\n",
        "#convert from int to float:\n",
        "new_x = float(x)\n",
        "#convert from float to int:\n",
        "new_y = int(y)\n",
        "#convert from int to complex:\n",
        "new_z = complex(x)\n",
        "print(new_x)\n",
        "print(new_y)\n",
        "print(new_z)\n",
        "print(type(new_x))\n",
        "print(type(new_y))\n",
        "print(type(new_z))"
      ],
      "execution_count": null,
      "outputs": []
    },
    {
      "cell_type": "markdown",
      "metadata": {
        "id": "3g8Z0fVDUhDA"
      },
      "source": [
        "Python already includes a few built-in functions for mathematical calculations. \n",
        "These are:"
      ]
    },
    {
      "cell_type": "markdown",
      "metadata": {
        "id": "lqXivl-VabRR"
      },
      "source": [
        "| Function | Description                                                                         |\n",
        "|----------|-------------------------------------------------------------------------------------|\n",
        "| abs()    | Returns absolute value of the value; (positive) distance between the value and zero |\n",
        "| divmod() | Returns quotient and remainder of integer division                                  |\n",
        "| max()    | Returns the largest of the given arguments or items in an iterable                  |\n",
        "| min()    | Returns the smallest of the given arguments or items in an iterable                 |\n",
        "| pow()    | Raises a number to a power                                                          |\n",
        "| round()  | Rounds a floating-point value                                                       |"
      ]
    },
    {
      "cell_type": "markdown",
      "metadata": {
        "id": "NTKrFuIvUtHL"
      },
      "source": [
        "In order to work with this data type, the use of modules can be helpful. Modules are packages, containing tools to use. They have to be imported beforehand tough. The math module includes various numeric tools, which are displayed below:"
      ]
    },
    {
      "cell_type": "markdown",
      "metadata": {
        "id": "FiqQUaH8aira"
      },
      "source": [
        "| import math  |                                                                                  |\n",
        "|--------------|----------------------------------------------------------------------------------|\n",
        "| math.ceil()  | Returns the ceiling of the value; smallest integer not less than the value       |\n",
        "| math.exp()   | Returns the exponential of the value; the euler number to the power of the value |\n",
        "| math.floor() | Returns the floor of the value; largest integer not greater than than the value  |\n",
        "| math.log()   | Returns the natural logarithm of the value for value > 0                         |\n",
        "| math.log10() | Returns the base-10 logarithm of value of value > 0                              |\n",
        "| math.sqrt()  | Returns the square root of the value for value > 0                               |\n",
        "| math.cos()   | Returns the cosine of the value radians                                          |\n",
        "| math.sin()   | Returns the sine of value radians                                                |\n",
        "| math.tan()   | Returns the tangent of value radians                                             |"
      ]
    },
    {
      "cell_type": "markdown",
      "metadata": {
        "id": "gikh2rOmU2km"
      },
      "source": [
        "(the `math` module is not compatible with complex numbers, for this data type the `cmath` module will have to be imported)\n",
        "\n",
        "Another module is the `random` module, especially useful for simulations, games and testing. For this, it generates a random list of numbers with given boundaries. "
      ]
    },
    {
      "cell_type": "markdown",
      "metadata": {
        "id": "sH2LaeChbdXa"
      },
      "source": [
        "| import random                    |                                                                                                                                                       |\n",
        "|----------------------------------|-------------------------------------------------------------------------------------------------------------------------------------------------------|\n",
        "| choice(seq)                      |  A random item from a list, tuple, or string.                                                                                                         |\n",
        "| randrange([start,] stop [,step]) |  A randomly selected element from range(start, stop, step)                                                                                            |\n",
        "| random()                         |  A random float r, such that 0 is less than or equal to r and r is less than 1                                                                        |\n",
        "| seed([x])                        |  Sets the integer starting value used in generating random numbers. Call this function before calling any other random module function. Returns None. |\n",
        "| uniform(x, y)                    |  A random float r, such that x is less than or equal to r and r is less than y                                                                        |"
      ]
    },
    {
      "cell_type": "markdown",
      "metadata": {
        "id": "5LDtmT39Uxv9"
      },
      "source": [
        "## **Booleans**\n",
        "The boolean data type is used to represent two truth values, either `TRUE` or `FALSE`. When programming, often it is necessary to know whether a statement is true or false. The Python Boolean type, bool, is of numeric nature, because the values `TRUE` and `FALSE` are predefined variables set to the integers `1` and `0`, respectively."
      ]
    },
    {
      "cell_type": "code",
      "metadata": {
        "id": "sO2TEIsSUgZn"
      },
      "source": [
        "a = True\n",
        "b = False\n",
        "print(a)\n",
        "print(type(b))"
      ],
      "execution_count": null,
      "outputs": []
    },
    {
      "cell_type": "markdown",
      "metadata": {
        "id": "2ebeaUaJVECB"
      },
      "source": [
        "## **Strings**\n",
        "\n",
        "The data type string is used for textual data, hence sequences of character data. To create a string variables characters are enclosed in quotes. Quotes can either be single `'`, double `\"`, or even triple quotes `\"\"\"`. Single and double quote characters are functionally identical.\n",
        "\n",
        "Multiline strings can be used with the latter quote type (`\"\"\"`). Spaces and paragraphs made in the triple quoted string will correspond to the output. \n",
        "As long as it is enclosed within the quotes, the string can contain numbers, words or any character in general. When including numbers, attention should be paid to whether they are meant to be stored as a string or a numeric value. Including numbers in a string simply makes them part of that string. Arithmetic operators have a different purpose when used on strings. For example, when working with numbers, the plus sign (`+`) adds two numbers together, but when working with strings, it concatenates the strings together."
      ]
    },
    {
      "cell_type": "code",
      "metadata": {
        "id": "zfp0MXC3UgWM"
      },
      "source": [
        "print(1 + 2)\n",
        "print(\"1\" + \"2\")"
      ],
      "execution_count": null,
      "outputs": []
    },
    {
      "cell_type": "markdown",
      "metadata": {
        "id": "bVLUeZp9VPLf"
      },
      "source": [
        "Often, inside a string there are also backlashes. They are used to include characters in a string which cannot be typed on the keyboard very easily. A single backlash will allow to write over multiple lines in the code, while resulting in a combined string.\n",
        "Important are also the characters `\\n` and `\\t`. While `\\n` results in a new line, `\\t` will create a tab. "
      ]
    },
    {
      "cell_type": "code",
      "metadata": {
        "id": "Hc7AsvpdUgUJ"
      },
      "source": [
        "s = \"g\\nj\\tk\"\n",
        "print(s)"
      ],
      "execution_count": null,
      "outputs": []
    },
    {
      "cell_type": "markdown",
      "metadata": {
        "id": "Klp7f2PxUf9s"
      },
      "source": [
        "There are various operations for strings. \n",
        "\n",
        "Assume string variable `a` holds `'Hello'` and variable `b` holds `'Switzerland'`, then:\n",
        "\n",
        "| Operator | Description                                                                        | Example                                                         |\n",
        "|----------|------------------------------------------------------------------------------------|-----------------------------------------------------------------|\n",
        "| +        | Concatenation - Adds values on either side of the operator                         | a + b will give HelloSwitzerland                                |\n",
        "| *        | Repetition - Creates new strings, concatenating multiple copies of the same string | a * 2 will give HelloHello                                        |\n",
        "| []       | Slice - Gives the character from the given index                                   | a[1] will give e                                                |\n",
        "| [ : ]    | Range Slice - Gives the characters from the given range                            | a[1:4] will give ell                                            |\n",
        "| n        | Membership — Returns True if x exists in the string. Can be multiple characters.   | x in string will give n (x does not exist in Hello Switzerland) |"
      ]
    },
    {
      "cell_type": "code",
      "metadata": {
        "id": "ZMApr_XlVsDG"
      },
      "source": [
        "a = \"Chocolate\"\n",
        "print(\"c\" in a)\n",
        "print(\"z\" in a)\n",
        "print(\"late\" in a)\n",
        "print( \"Hello\" + \"World\")  # Concatenation of strings."
      ],
      "execution_count": null,
      "outputs": []
    },
    {
      "cell_type": "markdown",
      "metadata": {
        "id": "XvtOo2CLVX6y"
      },
      "source": [
        "There are more built-in operators that can be used to operate with strings. These are called methods. \n"
      ]
    },
    {
      "cell_type": "markdown",
      "metadata": {
        "id": "c6MZkhZ4V0kb"
      },
      "source": [
        "| Methods       | Description                                                                                                        |\n",
        "|---------------|--------------------------------------------------------------------------------------------------------------------|\n",
        "| strip()       | Removes any whitespace from beginning or end.                                                                      |\n",
        "| capitalize()  | Capitalizes first letter of string.                                                                                |\n",
        "| casefold()    | Returns a casefolded copy of the string. Casefolded strings may be used for caseless matching.                     |\n",
        "| len('abc')    | Determines number of items.                                                                                        |\n",
        "| replace()     | Replaces string with another string.                                                                               |\n",
        "| join(seq)     | Merges (concatenates) the string representations of elements in sequence seq into a string, with separator string. |\n",
        "| lower()       | Converts all uppercase letters in string to lowercase.                                                             |\n",
        "| upper()       | Converts lowercase letters in string to uppercase.                                                                 |\n",
        "| split()       | Splits string at the specified separator and returns a list of strings.                                            |"
      ]
    },
    {
      "cell_type": "code",
      "metadata": {
        "id": "SEu0qpJOWCRB"
      },
      "source": [
        "txt = \"hello, i am studying in St. Gallen\"\n",
        "x = txt.split(\",\")\n",
        "print(x)"
      ],
      "execution_count": null,
      "outputs": []
    },
    {
      "cell_type": "markdown",
      "metadata": {
        "id": "xQig1KZTWCBc"
      },
      "source": [
        "### **Format strings**\t\n",
        "Performs a string formatting operation. The string on which this method is called can contain literal text or replacement fields delimited by curly brackets `{}`. Each replacement field contains either the numeric index of a positional argument, or the name of a keyword argument. Returns a copy of the string where each replacement field is replaced with the string value of the corresponding argument."
      ]
    },
    {
      "cell_type": "code",
      "metadata": {
        "id": "429UiPEbWKkW"
      },
      "source": [
        "# Example 1\n",
        "print(\"{} and {}\".format(\"Pizza\", \"Pasta\"))  # prints 'Pizza and Pasta'\n",
        "# Example 2\n",
        "print(\"{1} and {0}\".format(\"Tea\", \"Coffee\"))  # prints 'Coffe and Tea'\n",
        "# Example 3\n",
        "print(\"{lunch} and {dinner}\".format(lunch=\"Salad\", dinner=\"Rice\"))  # prints 'Salad and Rice'\n",
        "# Example 4\n",
        "print(\"{0}, {1}, {2}\".format(*\"123\"))  # prints '1, 2, 3'\n",
        "# Example 5\n",
        "lunch = {\"food\": \"Pasta\", \"drink\": \"Water\"}\n",
        "print(\"Lunch: {food}, {drink}\".format(**lunch))  # prints 'Lunch: Pasta, Water'"
      ],
      "execution_count": null,
      "outputs": []
    },
    {
      "cell_type": "markdown",
      "metadata": {
        "id": "2071AEv5WMeR"
      },
      "source": [
        "## **Lists**\n",
        "A list is a sequence of values. Essentially, it can contain any sort of object: strings, numbers or even other lists. These objects are positionally ordered, can contain duplicate values and are thus very flexible. In this sense, a list does not have to contain only one value type, but they can consists of a combination of integers, strings or booleans. Any item can be added to or removed from a list once it has been created. Objects within the list are enclosed within square brackets `[]` and separated by commas '`,`', alternatively a list can also be created with the `list()` constructor.\n",
        "When inside a list, the objects take on \"numbered positions\", which is important if one wants to access a list item. In Python, the first item in a list holds the position `0`, the second item the position `1` and so on. Alternatively, when counting from the end of the list the count begins at `-1` (last item). `-2` is therefore the second last item and so forth.\n",
        "\n",
        "- To access a single list item a slice operator: `[start:end:step]`. The latter will return the items between the positions at the starting index `start` (included) and `end` index (excluded) with a step of `step`. Elements of the slice operators can be ommited if needed.\n",
        "- The value of a list element can be modified with by specifying the index between square brackes and using the slice operator\n",
        "- The length of a list can be determined with the `len()` function"
      ]
    },
    {
      "cell_type": "code",
      "metadata": {
        "id": "hHaQXe8oWXfo"
      },
      "source": [
        "MyList = [0, 1, 2, 3, 4, 5, 6]\n",
        "MyList[1] = 999  # changes value of of the list at index 1\n",
        "print(MyList)\n",
        "print(len(MyList))  # prints the length of the list\n",
        "print(MyList[4:2:-1])  # prints the values of the list from index 4 (included) to index 2 (exluded) wih a step of -1"
      ],
      "execution_count": null,
      "outputs": []
    },
    {
      "cell_type": "code",
      "metadata": {
        "id": "ROOamBqUpIGg"
      },
      "source": [
        "MyList[0:2] = [111, 222, 333]  # replaces values between indexes 0 (included) and 2 (excluded) with 111 and 222 respectively, adds 333 at index 2 and shifts remaining to the right\n",
        "print(MyList)\n",
        "print(len(MyList))"
      ],
      "execution_count": null,
      "outputs": []
    },
    {
      "cell_type": "markdown",
      "metadata": {
        "id": "TK35an7YWYLH"
      },
      "source": [
        "| Methods                      | Description                                                                                                     |\n",
        "|------------------------------|-----------------------------------------------------------------------------------------------------------------|\n",
        "| To add items to a list:      |                                                                                                                 |\n",
        "| 1. append()                  | to add a new item to the end of the list                                                                        |\n",
        "| 2. insert()                  | to insert a new list item at a specific index/position without replacing any of the existing values             |\n",
        "| 3. extend()                  | to add another to list to the end of the original list (does not have to be just lists, one can add any object) |\n",
        "| To remove items from a list: |                                                                                                                 |\n",
        "| 1. remove()                  | removes item                                                                                                    |\n",
        "| 2. pop()                     | removes the last item                                                                                           |\n",
        "| 3. del                | can either remove an item at a specific index/position or delete the list all together                          |\n",
        "| 4. clear()                   | clears the list, the list still exists though!                                                                  |\n",
        "\n",
        "Lists are not limited to a single dimension; a so-called list of lists is possible. Multiple dimensions can be declared by seperating them with commas. For instance, in a two-dimensional list, the first number is always the number of rows where the second number is the number of column."
      ]
    },
    {
      "cell_type": "code",
      "metadata": {
        "id": "Wrady5jWWbzV"
      },
      "source": [
        "mylist = [[5,3],[2,3]]\n",
        "print(mylist)\n",
        "print(mylist[0], mylist[1])"
      ],
      "execution_count": null,
      "outputs": []
    },
    {
      "cell_type": "markdown",
      "metadata": {
        "id": "jxMlZRP30KMi"
      },
      "source": [
        "### **List concatenation, repetition and membership**\n",
        "\n",
        "| Expression            | Results                      | Description   |\n",
        "|-----------------------|------------------------------|---------------|\n",
        "| [1, 2, 3] + [4, 5, 6] | [1, 2, 3, 4, 5, 6]           | Concatenation |\n",
        "| ['Hi!'] * 4           | ['Hi!', 'Hi!', 'Hi!', 'Hi!'] | Repetition    |\n",
        "| 3 in [1, 2, 3]        | True                         | Membership    |"
      ]
    },
    {
      "cell_type": "markdown",
      "metadata": {
        "id": "lZJCEkViWibB"
      },
      "source": [
        "## **Tuples**\n",
        "Tuples are, similarly to lists, also a sequences with a collection of objects. Even tough they appear similar to lists, there are some differences. Firstly, tuples are fixed in their size (unchangeable), therefore one cannot add, change or remove items after the creation of a tuple. In other words, tuples are immutable. Secondly they use parentheses, instead of square brackets. Objects within the parentheses are separated by commas.  A tuple can also be created with the `tuple()` constructor.\n",
        "However, just like lists, are ordered and their ordering also begins with the index `0` (first item) and continues as such. When counting from the end of the tuple, the count begins at `-1` (last item). `-2` is therefore the second last item and so forth. Duplicate values are also allowed in tuples.\n",
        "- The length of a tuple can be determined with the `len()` function\n",
        "- Caution is necessary when creating a tuple with one item, since one has to add a comma after the item of the tuple. \n",
        "- Similarly to lists, slice opearations can be performed on tuples \n",
        "\n",
        "Since tuples are unchangeable, the adding, changing, or removing of itemas is not possible. However this can be solved by converting the tuple into a list, changing the list, and converting the list back into a tuple. For this procedure one can use `list()`."
      ]
    },
    {
      "cell_type": "code",
      "metadata": {
        "id": "SaErARS0WoQO"
      },
      "source": [
        "x = (\"apple\", \"banana\", \"cherry\")\n",
        "y = list(x)\n",
        "y[1] = \"kiwi\"\n",
        "x = tuple(y)\n",
        "print(x)"
      ],
      "execution_count": null,
      "outputs": []
    },
    {
      "cell_type": "markdown",
      "metadata": {
        "id": "MORvhkovWqVH"
      },
      "source": [
        "Alternatively, the tuple would have to be reassigned, e.g assign different values to the tuple.  \n",
        "The `del` keyword can delete the tuple all together.\n",
        "\n",
        "| Expression            | Results                      | Description   |\n",
        "|-----------------------|------------------------------|---------------|\n",
        "| (1, 2, 3) + (4, 5, 6) | (1, 2, 3, 4, 5, 6)           | Concatenation |\n",
        "| ('Hi!') * 4           | ('Hi!', 'Hi!', 'Hi!', 'Hi!') | Repetition    |\n",
        "| 3 in (1, 2, 3)        | True                         | Membership    |\n",
        "\n",
        "\n",
        "When compared to lists, tuples can seem quite restrictive at first, however in the case that it is important to remain with a fixed list of values, tuples can be very useful. Furthermore, for vectors, domains or other data, tuples are often preferred over lists. This is useful if data is supposed to remain write-protected. After the tutorial on iterations, it can become clear that due to the unchangeable nature of tuples, an iteration through tuples is quicker than a list."
      ]
    },
    {
      "cell_type": "markdown",
      "metadata": {
        "id": "NP_0XfRUqNoh"
      },
      "source": [
        "## **Dictionaries**\n",
        "Dictionaries are collection of objects, but storing objects by key instead of by their relative position. They can be created in key-value pairs. Therefore, dictionaries are also known as mappings, since they map keys to their associated values. This is a very powerful datatype to hold a lot of related information that can be associated through keys. The main operation of a dictionary is to extract a value based on the key name. Due to the labelling of keys, dictionaries are useful when data is being sorted, compared or iterated. To create a dictionary, the key: value pairs are separated by commas and enclosed in curly brackets `{}`. So the key can be a string or a number, followed by the colon `:` to separate from the associated value, which can be any type of data."
      ]
    },
    {
      "cell_type": "code",
      "metadata": {
        "id": "iHOUXUqqgoWz"
      },
      "source": [
        "room_numbers = {'Tom': 234, 'Anna': 212, 'Felix':765}\n",
        "print(room_numbers)"
      ],
      "execution_count": null,
      "outputs": []
    },
    {
      "cell_type": "markdown",
      "metadata": {
        "id": "o9ikDUMugn48"
      },
      "source": [
        "As of Python version 3.7, dictionaries have now a defined order. Further, they can be changed, can consist if any data type, but do not allow for duplicated values.\n",
        "\n",
        "- The length of a dictionary can be determined with the `len()` function\n",
        "- To access an item in the dictionary, the slice operator with the reference to its key name is used. Another way to obtain an item is with the method called `get()`, which returns `None` (unless specified otherwise) instead of an error if the key does asked for does not exist.\n",
        "- `The key()` method can give out all keys in the dictionary\n",
        "- `The values()` method will give out all values in the dictionary.\n",
        "- Values can be changed by using square brackets `[]` and specifying the key corresponding to the value we would like to change (unlike lists where we would specify indexes)\n",
        "- Alternatively, the `update()` method also allows to change values or create new key-value pairs."
      ]
    },
    {
      "cell_type": "code",
      "metadata": {
        "id": "w8wJzMK1W0oD"
      },
      "source": [
        "MyDict = {'Name':'Anna', 'Age':7, 'Nationality':'Swiss'}\n",
        "print(MyDict)\n",
        "MyDict['Age'] = 8;  # update existing entry\n",
        "print(MyDict)"
      ],
      "execution_count": null,
      "outputs": []
    },
    {
      "cell_type": "markdown",
      "metadata": {
        "id": "Dz-vmhpVW3qt"
      },
      "source": [
        "- Removing items from a dictionary can be done with the `del` keyword\n",
        "- the `clear()` method can be used to clear all entries in a dictionary"
      ]
    },
    {
      "cell_type": "code",
      "metadata": {
        "id": "dID0esz7W4i2"
      },
      "source": [
        "del MyDict['Name']  # remove entry with key 'Name'\n",
        "print(MyDict)\n",
        "MyDict.clear()  # remove all entries in dict\n",
        "print(MyDict)\n",
        "del MyDict  # delete entire dictionary"
      ],
      "execution_count": null,
      "outputs": []
    },
    {
      "cell_type": "markdown",
      "metadata": {
        "id": "ojKKfdN8eaQ6"
      },
      "source": [
        "# **Operators** <a name=\"operators\"></a>\n",
        "\n",
        "(Note: This chapter contains verbatim quotes from: https://www.w3schools.com/python/python_operators.asp, https://realpython.com/python-bitwise-operators/#overview-of-pythons-bitwise-operators and https://www.programiz.com/python-programming/precedence-associativity)\n",
        "\n",
        "Operators are used to perform basic mathematical operations on values or variables and are already built-in functions in Python. Being familiar with operators can be very helpful and simplify your code. As a quick overview below you can see the different types of operators which will be discussed in this tutorial.\n",
        "\n",
        "- Arithmetic operators\n",
        "- Boolean operators\n",
        "- Assignment operators\n",
        "- Logical operators\n",
        "- Identity operators\n",
        "- Membership operators\n",
        "- Bitwise operators\n",
        "\n",
        "To use operators in a code it is also important to know the ranking of the operators. The ranking means in which order the computer will run the different operators and so influences the results. At the end of the operators chapter we will have a look at their ranking."
      ]
    },
    {
      "cell_type": "markdown",
      "metadata": {
        "id": "kpS_Z7mFjQbF"
      },
      "source": [
        "## **Arithmetic Operators**\n",
        "\n",
        "Arithmetic operators are basic mathematic functions working with numbers. It is also possible to operate with variables that have a number assigned to them.\n",
        "\n",
        "| Operator| Name            | Example       | What's special?                  |\n",
        "|---------|-----------------|---------------|----------------------------------|\n",
        "| +       | Addition        | 1 + 2 = 3     |                                  |\n",
        "| -       | Subtraction     | 3 - 2 = 1     |                                 | \n",
        "| *       | Multiplication  | 3 * 3 = 9     | | \n",
        "| **      | Exponentiation  | 7 ** 2 = 49     | |\n",
        "| /       | Division        |6 / 2 = 3      | |\n",
        "| //      | Floor division  | 10 // 3 = 3   | runs a division but returns only the full number without anything after the decimal point |\n",
        "| %       | Modulus         | 9 % 2 = 1     | runs a division and returns 1 if thers a remainder and 0 if there is no remainder |\n"
      ]
    },
    {
      "cell_type": "code",
      "metadata": {
        "id": "ZhKUaGTN0D-S"
      },
      "source": [
        "# See some examples on arithmetic operators here and see that it is also possible to combine them\n",
        "print(1 + 2)\n",
        "print(3 - 2 + 1)\n",
        "print(3 * 3)\n",
        "print(7 ** 2)\n",
        "print(6 / 2 * 3)\n",
        "print(10 // 3)\n",
        "print(9 % 2)\n",
        "\n",
        "# Arithmetic operators with variables\n",
        "a = 1\n",
        "b = 3\n",
        "print(a + b)\n",
        "print(a % b)"
      ],
      "execution_count": null,
      "outputs": []
    },
    {
      "cell_type": "markdown",
      "metadata": {
        "id": "Ura9wY8M44LC"
      },
      "source": [
        "## **Boolean Operators**\n",
        "\n",
        "Boolean operator define the relationships between values and returns a boolean value which is either True or False\n",
        "\n",
        "| Operator | Example | Description |\n",
        "|----------|---------|-------------|\n",
        "| ==       |4 == 4 returns True | equal |\n",
        "| !=       |2 != 3 returns True | not equal |\n",
        "| <        | 5 < 7 returns True | less than |\n",
        "| >        | 7 > 5 returns True | greater than |\n",
        "| <=       | 4 <= 4 returns True| less than or equal to |\n",
        "| >=       | 8 >= 6 returns True| greater than or equal to |"
      ]
    },
    {
      "cell_type": "code",
      "metadata": {
        "id": "McIGCCGz7cfM"
      },
      "source": [
        "print(5 == 6)\n",
        "print(5 == 5)\n",
        "print(2 < 1)\n",
        "print(2 < 5.467934)  # integers and floats can be compared since they are both of numeric values\n",
        "print(3 != 4)\n",
        "print(100 != 100)\n",
        "\n",
        "# Booleon operators can also be used on strings\n",
        "print(\"Paris\" == \"Paris\")\n",
        "print(\"Berlin\" != \"Berlin\")"
      ],
      "execution_count": null,
      "outputs": []
    },
    {
      "cell_type": "markdown",
      "metadata": {
        "id": "BJcMu7Fq9j5H"
      },
      "source": [
        "## **Assignment Operators**\n",
        "\n",
        "Assignment Operators are used to run operations on variables and then assign the result to the variable by the used operation.\n",
        "\n",
        "| Operator | Example | Meaning |\n",
        "|----------|---------|---------|\n",
        "| = | a = 10 | a = 10 |\n",
        "| += | a += 10 | a = a + 10|\n",
        "| -= | a -= 10 | a = a - 10 |\n",
        "| *= | a *= 10 | a = a * 10 |\n",
        "| /= | a /= 10 | a = a / 10 |\n",
        "| %= | a %= 10 | a = a % 10 |\n",
        "| //= | a //= 10 | a = a // 10 |\n",
        "| **= | a **= 10 | a = a ** 10 |"
      ]
    },
    {
      "cell_type": "code",
      "metadata": {
        "id": "Ojon6F58Ex5g"
      },
      "source": [
        "# Some Examples of assignment operators\n",
        "a = 10\n",
        "print(a)\n",
        "a += 5\n",
        "print(a)\n",
        "a /= 3\n",
        "print(a)\n",
        "a **= 2\n",
        "print(a)\n",
        "\n",
        "# Assignments operators can be used for example in counting the amount of even numbers in a list\n",
        "MyList = range(1,101)\n",
        "even_numbers = 0\n",
        "for i in MyList:\n",
        "  if i % 2 == 0:\n",
        "    even_numbers += 1\n",
        "print(\"in this list there are {} even numbers\".format(even_numbers))"
      ],
      "execution_count": null,
      "outputs": []
    },
    {
      "cell_type": "markdown",
      "metadata": {
        "id": "eoSAhpxdGYxp"
      },
      "source": [
        "## **Logical Operators**\n",
        "\n",
        "These operators work with conditional statements. With them you can either reverse the logical state of an operand or combine different conditions.\n",
        "\n",
        "| Operator | Example | Description |\n",
        "|----------|---------|-------------|\n",
        "| and      | a < 5 and a > 3 | Returns True only if both conditions are True |\n",
        "| or       | a < 5 or a < 10 | Returns True if at least one of the conditions is True |\n",
        "| not      | not(a < 5 and a > 3) | Returns the reverse of the actual logical state, returns False if the Result is True"
      ]
    },
    {
      "cell_type": "code",
      "metadata": {
        "id": "k0EMafqWq5T8"
      },
      "source": [
        "# Some examples on logical operators\n",
        "a = 4\n",
        "print(a < 5 and a >= 4)\n",
        "print(a < 2 and a > 5)\n",
        "print(a < 5 or a < 10)\n",
        "print(a < 5 or a > 10) \n",
        "print(a > 5 or a < 2)\n",
        "print(not (a < 10 and a > 1))\n",
        "\n",
        "# The logical operators are useful for example in if statements\n",
        "x = range(1,10)\n",
        "for i in x:\n",
        "  if i >= 3 and i <= 5:\n",
        "    print(\"{} is in the interval of 3 and 5\".format(i))\n",
        "  else:\n",
        "    print(\"{} is outside the interval of 3 and 5\".format(i))\n"
      ],
      "execution_count": null,
      "outputs": []
    },
    {
      "cell_type": "markdown",
      "metadata": {
        "id": "RJrRxeINto9P"
      },
      "source": [
        "## **Identity Operators**\n",
        "\n",
        "Identity operator compare the identity assigned to two variables. In other words, they assess whether values are pointing to the same object in memory.\n",
        "\n",
        "| Operator | Example | Description |\n",
        "|----------|---------|-------------|\n",
        "| is       | a is b  | Returns True if a and b are the same variable. Returns False otherwise. |\n",
        "| is not   | a is not b | Returns True if a and b are not the same variable. Returns False otherwise. |"
      ]
    },
    {
      "cell_type": "code",
      "metadata": {
        "id": "DIW0vVrXwsCZ"
      },
      "source": [
        "# Some examples on identity operators\n",
        "a = 5\n",
        "b = 100\n",
        "\n",
        "print(a is b)\n",
        "print(a is not b)\n",
        "print(a * 20 is b)\n",
        "\n",
        "# it also works with strings\n",
        "a = \"Berlin\"\n",
        "Berlin = \"Berlin\"\n",
        "print(a is Berlin)\n",
        "print(a is not \"Budapest\")"
      ],
      "execution_count": null,
      "outputs": []
    },
    {
      "cell_type": "markdown",
      "metadata": {
        "id": "kFvjqwD3yYgv"
      },
      "source": [
        "## **Membership Operators**\n",
        "\n",
        "You can use Membership Operators to test whether an element is assigned or present in an object\n",
        "\n",
        "| Operator | Example | Description | \n",
        "|----------|---------|-------------|\n",
        "| in       | a in b  | Returns True if the value of a is present or listed in the object b. Else it returns False. |\n",
        "| not in   | a not in b | Returns True if the value of a is not present or not listed in the object b. Else it returns False |"
      ]
    },
    {
      "cell_type": "code",
      "metadata": {
        "id": "hb7XVSPhMtyv"
      },
      "source": [
        "# Some examples of membership operators\n",
        "MyList = [1, 2, 3, \"a\", 12, \"Berlin\"]\n",
        "print(1 in MyList)\n",
        "print((2 + 1) in MyList)\n",
        "print(\"Budapest\" in MyList)\n",
        "print(\"Berlin\" not in MyList)"
      ],
      "execution_count": null,
      "outputs": []
    },
    {
      "cell_type": "markdown",
      "metadata": {
        "id": "foQfmt8ETdHu"
      },
      "source": [
        "## **Bitwise Operators**\n",
        "\n",
        "These Operators seem strange and complicated compared to the others but if you will see behind it pretty fast. These operators work with the to the operator given numbers in binary format and perform logical conjunctions on them. To understand it better try to imagine any given number in binary format.\n",
        "\n",
        "| Operator |Name | Example | In Binary | Description |\n",
        "|----------|------|---|-----------|-------------|\n",
        "| & | AND | 3 & 5 = 1 | 011 & 101 = 001 | Returns 1 only if both bits in the same positions of the numbers is 1, else it returns 0 |\n",
        "| 3 I 5 | OR | 3 I 5 = 7 | 011 I 101 = 111 | Returns only 0 if both bits in the same positions of the numbers is 0, else it returns 1 |\n",
        "| ^| XOR | 3 ^ 5 = 6 | 011 ^ 101 = 110 | For the bits in the same position: 1 and 0 returns 1, 0 and 0 returns 0, 1 and 1 returns 0 |\n",
        "| ~ | NOT | ~5 = 2 | ~101 = 010 | 1 turns to 0 and 0 turns to 1 |\n",
        "| << | Left Shift | 3 << 2 = 12 | 011 << 2 = 01100 | Shifts the binary number to the left by the given number of positions (here 2) and fills the gaps with 0's |\n",
        "| >> | Right Shift | 5 >> 2 = 1 | 101 >> 2 = 1 | Works same as the left shift and the rightmost numbers get dropped |\n",
        "\n",
        "Implicate the `not` operater needs some further understanding which we do not cover in this tutorial. Check this link to know more: https://realpython.com/python-bitwise-operators/#binary-number-representations\n"
      ]
    },
    {
      "cell_type": "code",
      "metadata": {
        "id": "TbtojyP-UBab"
      },
      "source": [
        "# Some examples on bitwise operators\n",
        "print(3 & 5)\n",
        "print(3 | 5)\n",
        "print(3 ^ 5)\n",
        "print(~156 & 255)  #  check the given link out to understand this example\n",
        "print(3 << 2)\n",
        "print(5 >> 2)"
      ],
      "execution_count": null,
      "outputs": []
    },
    {
      "cell_type": "markdown",
      "metadata": {
        "id": "age8I-iXkrBd"
      },
      "source": [
        "## **Ranking Of Operators**\n",
        "\n",
        "As already said it is important to know the ranking of the precedence of the operators. This can have a big impact of the return or the results of an algorithm. The Table shows from Top to bottom which operator the computer will execute first while running through a code. Top is first and bottom is last.\n",
        "\n",
        "| Operator | Meaning |\n",
        "|---------|-----------|\n",
        "| ( )       | Parentheses |\n",
        "| **      | Exponent |\n",
        "| ~  |  Bitwise Not |\n",
        "| *, /, //, % |Multiplication, Division, Floor Division, Modulus |\n",
        "| +, - | Addition, Subtraction |\n",
        "| << , >> | Bitwise Shift Operators |\n",
        "| & | Bitwise AND |\n",
        "| ^ | Bitwise XOR |\n",
        "| I | Bitwise OR |\n",
        "| ==, !=, >, >=, <, <=, is, is not, in, not in | Comparison, Identity, Membership operators |\n",
        "| not | Logical not |\n",
        "| and | Logical and |\n",
        "| or | Logical or |\n"
      ]
    },
    {
      "cell_type": "code",
      "metadata": {
        "id": "xHwWul89nmGl"
      },
      "source": [
        "# Some examples on the rankings of operators\n",
        "print(2 * 3 + 5)\n",
        "print(2 * (3 + 5))\n",
        "print(2**2 * 3)\n",
        "print(2 ** (2 * 3))\n",
        "print(2 / 2 % 2)\n",
        "print(3 + 3 % 2)\n",
        "print((3 + 3) % 2)\n",
        "\n",
        "a = 4\n",
        "print(3&5 is a)\n",
        "print(3|5 < 10)\n",
        "print(not(a==4) and a==3)\n",
        "print(not(a==4) and a == 3 or a == 4)"
      ],
      "execution_count": null,
      "outputs": []
    }
  ]
}